{
 "cells": [
  {
   "cell_type": "code",
   "execution_count": null,
   "metadata": {},
   "outputs": [],
   "source": [
    "import FaaSET\n",
    "import FaaSRunner\n",
    "import time\n",
    "from datetime import datetime"
   ]
  },
  {
   "cell_type": "code",
   "execution_count": null,
   "metadata": {},
   "outputs": [],
   "source": [
    "\n",
    "@FaaSET.cloud_function(platform=\"aws\", config={\"memory\":128, \"region\": \"us-west-1\"})\n",
    "def hello_world_faaset_128MB_c(request, context): \n",
    "    from SAAF import Inspector\n",
    "    import time\n",
    "    inspector = Inspector()\n",
    "    inspector.inspectAll()\n",
    "    time.sleep(request['time'])\n",
    "    inspector.addAttribute(\"message\", \"Hello from the hotel lambda \" + str(request[\"name\"]) + \"!\")\n",
    "    inspector.inspectAllDeltas()\n",
    "    return inspector.finish() "
   ]
  },
  {
   "cell_type": "code",
   "execution_count": null,
   "metadata": {},
   "outputs": [],
   "source": [
    "cloud = hello_world_faaset_128MB_c({\"name\": \"Steve\", \"time\": 10}, None)\n",
    "cloud"
   ]
  },
  {
   "cell_type": "code",
   "execution_count": null,
   "metadata": {},
   "outputs": [],
   "source": [
    "\n",
    "@FaaSET.cloud_function(platform=\"aws\", config={\"memory\":10000, \"region\": \"us-west-1\"})\n",
    "def hello_world_faaset_10GB_c(request, context): \n",
    "    from SAAF import Inspector\n",
    "    import time\n",
    "    inspector = Inspector()\n",
    "    inspector.inspectAll()\n",
    "    time.sleep(request['time'])\n",
    "    inspector.addAttribute(\"message\", \"Hello from the hotel lambda \" + str(request[\"name\"]) + \"!\")\n",
    "    inspector.inspectAllDeltas()\n",
    "    return inspector.finish() \n",
    "\n",
    "cloud = hello_world_faaset_10GB_c({\"name\": \"Steve\", \"time\": 10}, None)\n",
    "cloud"
   ]
  },
  {
   "cell_type": "markdown",
   "metadata": {},
   "source": [
    "# 24 hour test:"
   ]
  },
  {
   "cell_type": "code",
   "execution_count": null,
   "metadata": {},
   "outputs": [],
   "source": [
    "start_time = time.time()\n",
    "while time.time() - start_time < 90000:\n",
    "    try:\n",
    "        results_128 = FaaSRunner.experiment(\n",
    "        \n",
    "            function=hello_world_faaset_128MB_c, \n",
    "            runs_per_thread= 1,\n",
    "            threads= 125,\n",
    "            payloads=[{\"name\": \"Bob\", \"time\" : 10}],\n",
    "            experiment_name=\"func_call_test_128MB_c\")\n",
    "        results_128['memory'] = '128MB'\n",
    "        results_128['time_run'] = datetime.now().strftime(\"%m/%d/%Y %H:%M:%S\")\n",
    "        results_128.to_csv(f'results/results_24_hours_experiment_5_23_california_128MBvs10GB/result_128MB_call_{datetime.now().strftime(\"%H:%M:%S\")}_california.csv', index=False )\n",
    "\n",
    "        results_3GB = FaaSRunner.experiment(\n",
    "        \n",
    "            function=hello_world_faaset_10GB_c, \n",
    "            runs_per_thread= 1,\n",
    "            threads= 125,\n",
    "            payloads=[{\"name\": \"Bob\", \"time\" : 10}],\n",
    "            experiment_name=\"func_call_test_10GB_c\")\n",
    "        results_3GB['memory'] = '10GB'\n",
    "        results_3GB['time_run'] = datetime.now().strftime(\"%m/%d/%Y %H:%M:%S\")\n",
    "        results_3GB.to_csv(f'results/results_24_hours_experiment_5_23_california_128MBvs10GB/result_10GB_call_{datetime.now().strftime(\"%H:%M:%S\")}_california.csv', index=False )\n",
    "    except Exception:\n",
    "        print(\"Exception occured: \", Exception)\n",
    "    time.sleep(3600)"
   ]
  },
  {
   "cell_type": "code",
   "execution_count": null,
   "metadata": {},
   "outputs": [],
   "source": [
    "results_128[\"cpuType\"].value_counts()\n"
   ]
  },
  {
   "cell_type": "code",
   "execution_count": null,
   "metadata": {},
   "outputs": [],
   "source": [
    "results_128[\"newcontainer\"].value_counts()"
   ]
  },
  {
   "cell_type": "code",
   "execution_count": null,
   "metadata": {},
   "outputs": [],
   "source": [
    "results_3008[\"cpuType\"].value_counts()"
   ]
  },
  {
   "cell_type": "code",
   "execution_count": null,
   "metadata": {},
   "outputs": [],
   "source": [
    "results_3008[\"newcontainer\"].value_counts()"
   ]
  }
 ],
 "metadata": {
  "kernelspec": {
   "display_name": "serverless_env",
   "language": "python",
   "name": "python3"
  },
  "language_info": {
   "codemirror_mode": {
    "name": "ipython",
    "version": 3
   },
   "file_extension": ".py",
   "mimetype": "text/x-python",
   "name": "python",
   "nbconvert_exporter": "python",
   "pygments_lexer": "ipython3",
   "version": "3.12.3"
  }
 },
 "nbformat": 4,
 "nbformat_minor": 2
}
